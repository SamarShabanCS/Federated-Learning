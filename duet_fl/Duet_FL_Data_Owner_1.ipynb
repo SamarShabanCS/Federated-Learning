{
 "cells": [
  {
   "cell_type": "markdown",
   "id": "continent-climb",
   "metadata": {},
   "source": [
    "# Part 1: Launch a Duet Server and upload data"
   ]
  },
  {
   "cell_type": "code",
   "execution_count": 1,
   "id": "parental-classics",
   "metadata": {},
   "outputs": [],
   "source": [
    "import syft as sy\n"
   ]
  },
  {
   "cell_type": "code",
   "execution_count": 2,
   "id": "89d7eea8",
   "metadata": {},
   "outputs": [
    {
     "name": "stdout",
     "output_type": "stream",
     "text": [
      "🎤  🎸  ♪♪♪ Starting Duet ♫♫♫  🎻  🎹\n",
      "\n",
      "♫♫♫ >\u001b[93m DISCLAIMER\u001b[0m: \u001b[1mDuet is an experimental feature currently in beta.\n",
      "♫♫♫ > Use at your own risk.\n",
      "\u001b[0m\n",
      "\u001b[1m\n",
      "    > ❤️ \u001b[91mLove\u001b[0m \u001b[92mDuet\u001b[0m? \u001b[93mPlease\u001b[0m \u001b[94mconsider\u001b[0m \u001b[95msupporting\u001b[0m \u001b[91mour\u001b[0m \u001b[93mcommunity!\u001b[0m\n",
      "    > https://github.com/sponsors/OpenMined\u001b[1m\n",
      "\n",
      "♫♫♫ > Punching through firewall to OpenGrid Network Node at:\n",
      "♫♫♫ > http://ec2-18-218-7-180.us-east-2.compute.amazonaws.com:5000\n",
      "♫♫♫ >\n",
      "♫♫♫ > ...waiting for response from OpenGrid Network... \n",
      "♫♫♫ > \u001b[92mDONE!\u001b[0m\n",
      "\n",
      "♫♫♫ > \u001b[95mSTEP 1:\u001b[0m Send the following code to your Duet Partner!\n",
      "\n",
      "import syft as sy\n",
      "duet = sy.join_duet(loopback=True)\n",
      "\n",
      "♫♫♫ > Connecting...\n",
      "\n",
      "♫♫♫ > \u001b[92mCONNECTED!\u001b[0m\n",
      "\n",
      "♫♫♫ > DUET LIVE STATUS  -  Objects: 4  Requests: 0   Messages: 221  Request Handlers: 1                                                         \r"
     ]
    }
   ],
   "source": [
    "duet = sy.launch_duet(loopback=True)"
   ]
  },
  {
   "cell_type": "code",
   "execution_count": 3,
   "id": "dying-switch",
   "metadata": {},
   "outputs": [],
   "source": [
    "import torch as th\n",
    "import numpy as np"
   ]
  },
  {
   "cell_type": "code",
   "execution_count": 4,
   "id": "focused-error",
   "metadata": {},
   "outputs": [],
   "source": [
    "data = th.FloatTensor(np.array([5, 15, 25, 35, 45, 55]).reshape(-1, 1))\n",
    "\n",
    "data = data.tag(\"DO1 data\")\n",
    "data = data.describe(\"Dataset of 6 samples, 1 feature\")\n",
    "\n",
    "data_ptr = data.send(duet, pointable=True)"
   ]
  },
  {
   "cell_type": "code",
   "execution_count": 5,
   "id": "circular-commodity",
   "metadata": {},
   "outputs": [
    {
     "data": {
      "text/html": [
       "<div>\n",
       "<style scoped>\n",
       "    .dataframe tbody tr th:only-of-type {\n",
       "        vertical-align: middle;\n",
       "    }\n",
       "\n",
       "    .dataframe tbody tr th {\n",
       "        vertical-align: top;\n",
       "    }\n",
       "\n",
       "    .dataframe thead th {\n",
       "        text-align: right;\n",
       "    }\n",
       "</style>\n",
       "<table border=\"1\" class=\"dataframe\">\n",
       "  <thead>\n",
       "    <tr style=\"text-align: right;\">\n",
       "      <th></th>\n",
       "      <th>ID</th>\n",
       "      <th>Tags</th>\n",
       "      <th>Description</th>\n",
       "      <th>object_type</th>\n",
       "    </tr>\n",
       "  </thead>\n",
       "  <tbody>\n",
       "    <tr>\n",
       "      <th>0</th>\n",
       "      <td>&lt;UID: c3f6f65661344248bc1da0e1350608d0&gt;</td>\n",
       "      <td>[DO1 data]</td>\n",
       "      <td>Dataset of 6 samples, 1 feature</td>\n",
       "      <td>&lt;class 'torch.Tensor'&gt;</td>\n",
       "    </tr>\n",
       "  </tbody>\n",
       "</table>\n",
       "</div>"
      ],
      "text/plain": [
       "                                        ID        Tags  \\\n",
       "0  <UID: c3f6f65661344248bc1da0e1350608d0>  [DO1 data]   \n",
       "\n",
       "                       Description             object_type  \n",
       "0  Dataset of 6 samples, 1 feature  <class 'torch.Tensor'>  "
      ]
     },
     "execution_count": 5,
     "metadata": {},
     "output_type": "execute_result"
    }
   ],
   "source": [
    "duet.store.pandas"
   ]
  },
  {
   "cell_type": "code",
   "execution_count": 6,
   "id": "undefined-keeping",
   "metadata": {},
   "outputs": [
    {
     "data": {
      "text/plain": [
       "tensor([[ 5.],\n",
       "        [15.],\n",
       "        [25.],\n",
       "        [35.],\n",
       "        [45.],\n",
       "        [55.]])"
      ]
     },
     "execution_count": 6,
     "metadata": {},
     "output_type": "execute_result"
    }
   ],
   "source": [
    "data"
   ]
  },
  {
   "cell_type": "code",
   "execution_count": 7,
   "id": "thousand-borough",
   "metadata": {},
   "outputs": [
    {
     "name": "stderr",
     "output_type": "stream",
     "text": [
      "[2022-02-19T23:33:52.835811-0800][CRITICAL][logger]][30589] > HANDLER Request <UID: 72704249e4e045ceae28c62be81ee90b>: To evaluate training progress\n",
      "Value: <Storable: 11.002963066101074>\n",
      "[2022-02-19T23:33:53.143167-0800][CRITICAL][logger]][30589] > HANDLER Request <UID: 3493566b350c4ee3b3d7f3df00b62a1c>: To evaluate training progress\n",
      "Value: <Storable: 1.7552738189697266>\n",
      "[2022-02-19T23:33:54.387033-0800][CRITICAL][logger]][30589] > HANDLER Request <UID: 77ff1e42b144454c8d70f94ea0eb9988>: To evaluate training progress\n",
      "Value: <Storable: 7.376514434814453>\n",
      "[2022-02-19T23:33:55.552424-0800][CRITICAL][logger]][30589] > HANDLER Request <UID: eab3273b007d47b1b341c61b9c1ea72c>: To evaluate training progress\n",
      "Value: <Storable: 6.467600345611572>\n",
      "[2022-02-19T23:33:56.669033-0800][CRITICAL][logger]][30589] > HANDLER Request <UID: 96084cac0c414e73a0d4af526b38f044>: To evaluate training progress\n",
      "Value: <Storable: 2.682744026184082>\n",
      "[2022-02-19T23:33:57.810949-0800][CRITICAL][logger]][30589] > HANDLER Request <UID: bbe6e8eca27a41bb9cfec6b3ec565829>: To evaluate training progress\n",
      "Value: <Storable: 1.642000675201416>\n",
      "[2022-02-19T23:33:58.942951-0800][CRITICAL][logger]][30589] > HANDLER Request <UID: c8393af181e847b695427e0be9e563e3>: To evaluate training progress\n",
      "Value: <Storable: 3.469860792160034>\n",
      "[2022-02-19T23:33:59.285293-0800][CRITICAL][logger]][30589] > HANDLER Request <UID: 8f406abadda045c1ba756f433ed8efea>: To evaluate training progress\n",
      "Value: <Storable: 4.670438289642334>\n",
      "[2022-02-19T23:33:59.628151-0800][CRITICAL][logger]][30589] > HANDLER Request <UID: 14788df0a4c649eb8c9309c62118acd0>: To evaluate training progress\n",
      "Value: <Storable: 3.7360055446624756>\n",
      "[2022-02-19T23:34:00.717635-0800][CRITICAL][logger]][30589] > HANDLER Request <UID: 340a58cf22974e0a9e4b26b778a3d538>: To evaluate training progress\n",
      "Value: <Storable: 2.1136934757232666>\n",
      "[2022-02-19T23:39:34.583317-0800][CRITICAL][logger]][30589] > HANDLER Request <UID: f9243686105b437ab31badd46fe3f5f7>:\n",
      "Value: <Storable: [Parameter containing:tensor([[0.6736]], requires_grad=True), Parameter containing:tensor([-0.1736], requires_grad=True)]>\n",
      "[2022-02-19T23:44:13.261355-0800][CRITICAL][logger]][30589] > HANDLER Request <UID: 4e001d4a54ec4f64a694a89628c8afaf>:\n",
      "Value: <Storable: 'in_features=1, out_features=1, bias=True'>\n",
      "[2022-02-19T23:44:13.493546-0800][CRITICAL][logger]][30589] > HANDLER Request <UID: ca862baa294e4838853aeedcad5e27e2>:\n",
      "Value: <Storable: OrderedDict([('weight', tensor([[0.6736]])), ('bias', tensor([-0.1736]))])>\n"
     ]
    }
   ],
   "source": [
    "duet.requests.add_handler(\n",
    "    action=\"accept\",\n",
    "    print_local=True,  # print the result in your notebook\n",
    ")"
   ]
  },
  {
   "cell_type": "code",
   "execution_count": null,
   "id": "assigned-tomato",
   "metadata": {},
   "outputs": [],
   "source": []
  }
 ],
 "metadata": {
  "kernelspec": {
   "display_name": "Python 3 (ipykernel)",
   "language": "python",
   "name": "python3"
  },
  "language_info": {
   "codemirror_mode": {
    "name": "ipython",
    "version": 3
   },
   "file_extension": ".py",
   "mimetype": "text/x-python",
   "name": "python",
   "nbconvert_exporter": "python",
   "pygments_lexer": "ipython3",
   "version": "3.9.7"
  }
 },
 "nbformat": 4,
 "nbformat_minor": 5
}
