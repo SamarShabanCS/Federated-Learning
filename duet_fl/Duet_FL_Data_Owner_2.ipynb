{
 "cells": [
  {
   "cell_type": "markdown",
   "id": "dependent-pharmacy",
   "metadata": {},
   "source": [
    "# Part 1: Launch a Duet Server and upload data"
   ]
  },
  {
   "cell_type": "code",
   "execution_count": 2,
   "id": "dirty-subject",
   "metadata": {
    "scrolled": true
   },
   "outputs": [],
   "source": [
    "import syft as sy"
   ]
  },
  {
   "cell_type": "code",
   "execution_count": 3,
   "id": "0e6b09e2",
   "metadata": {},
   "outputs": [
    {
     "name": "stdout",
     "output_type": "stream",
     "text": [
      "🎤  🎸  ♪♪♪ Starting Duet ♫♫♫  🎻  🎹\n",
      "\n",
      "♫♫♫ >\u001b[93m DISCLAIMER\u001b[0m: \u001b[1mDuet is an experimental feature currently in beta.\n",
      "♫♫♫ > Use at your own risk.\n",
      "\u001b[0m\n",
      "\u001b[1m\n",
      "    > ❤️ \u001b[91mLove\u001b[0m \u001b[92mDuet\u001b[0m? \u001b[93mPlease\u001b[0m \u001b[94mconsider\u001b[0m \u001b[95msupporting\u001b[0m \u001b[91mour\u001b[0m \u001b[93mcommunity!\u001b[0m\n",
      "    > https://github.com/sponsors/OpenMined\u001b[1m\n",
      "\n",
      "♫♫♫ > Punching through firewall to OpenGrid Network Node at:\n",
      "♫♫♫ > http://ec2-18-218-7-180.us-east-2.compute.amazonaws.com:5000\n",
      "♫♫♫ >\n",
      "♫♫♫ > ...waiting for response from OpenGrid Network... \n",
      "♫♫♫ > \u001b[92mDONE!\u001b[0m\n",
      "\n",
      "♫♫♫ > \u001b[95mSTEP 1:\u001b[0m Send the following code to your Duet Partner!\n",
      "\n",
      "import syft as sy\n",
      "duet = sy.join_duet(loopback=True)\n",
      "\n",
      "♫♫♫ > Connecting...\n",
      "\n",
      "♫♫♫ > \u001b[92mCONNECTED!\u001b[0m\n",
      "\n",
      "♫♫♫ > DUET LIVE STATUS  *  Objects: 4  Requests: 0   Messages: 222  Request Handlers: 1                                \r"
     ]
    }
   ],
   "source": [
    "duet = sy.duet(loopback=True)"
   ]
  },
  {
   "cell_type": "code",
   "execution_count": 4,
   "id": "different-setup",
   "metadata": {},
   "outputs": [],
   "source": [
    "import torch as th\n",
    "import numpy as np"
   ]
  },
  {
   "cell_type": "code",
   "execution_count": 5,
   "id": "continent-sixth",
   "metadata": {},
   "outputs": [],
   "source": [
    "data = th.FloatTensor(np.array([60, 65, 75, 85, 95]).reshape(-1, 1))\n",
    "\n",
    "data = data.tag(\"DO2 data\")\n",
    "data = data.describe(\"Dataset of 5 samples, 1 feature\")\n",
    "\n",
    "data_ptr = data.send(duet, searchable=True)"
   ]
  },
  {
   "cell_type": "code",
   "execution_count": 6,
   "id": "tropical-addition",
   "metadata": {},
   "outputs": [
    {
     "data": {
      "text/html": [
       "<div>\n",
       "<style scoped>\n",
       "    .dataframe tbody tr th:only-of-type {\n",
       "        vertical-align: middle;\n",
       "    }\n",
       "\n",
       "    .dataframe tbody tr th {\n",
       "        vertical-align: top;\n",
       "    }\n",
       "\n",
       "    .dataframe thead th {\n",
       "        text-align: right;\n",
       "    }\n",
       "</style>\n",
       "<table border=\"1\" class=\"dataframe\">\n",
       "  <thead>\n",
       "    <tr style=\"text-align: right;\">\n",
       "      <th></th>\n",
       "      <th>ID</th>\n",
       "      <th>Tags</th>\n",
       "      <th>Description</th>\n",
       "      <th>object_type</th>\n",
       "    </tr>\n",
       "  </thead>\n",
       "  <tbody>\n",
       "    <tr>\n",
       "      <th>0</th>\n",
       "      <td>&lt;UID: 117c98a37d9b4b82844eccbe670eedfe&gt;</td>\n",
       "      <td>[DO2 data]</td>\n",
       "      <td>Dataset of 5 samples, 1 feature</td>\n",
       "      <td>&lt;class 'torch.Tensor'&gt;</td>\n",
       "    </tr>\n",
       "  </tbody>\n",
       "</table>\n",
       "</div>"
      ],
      "text/plain": [
       "                                        ID        Tags  \\\n",
       "0  <UID: 117c98a37d9b4b82844eccbe670eedfe>  [DO2 data]   \n",
       "\n",
       "                       Description             object_type  \n",
       "0  Dataset of 5 samples, 1 feature  <class 'torch.Tensor'>  "
      ]
     },
     "execution_count": 6,
     "metadata": {},
     "output_type": "execute_result"
    }
   ],
   "source": [
    "duet.store.pandas"
   ]
  },
  {
   "cell_type": "code",
   "execution_count": 7,
   "id": "nearby-usage",
   "metadata": {
    "scrolled": true
   },
   "outputs": [
    {
     "data": {
      "text/plain": [
       "tensor([[60.],\n",
       "        [65.],\n",
       "        [75.],\n",
       "        [85.],\n",
       "        [95.]])"
      ]
     },
     "execution_count": 7,
     "metadata": {},
     "output_type": "execute_result"
    },
    {
     "name": "stdout",
     "output_type": "stream",
     "text": [
      "\r",
      "♫♫♫ > DUET LIVE STATUS  *  Objects: 0  Requests: 0   Messages: 0  Request Handlers: 0                                \r"
     ]
    }
   ],
   "source": [
    "data"
   ]
  },
  {
   "cell_type": "code",
   "execution_count": 8,
   "id": "under-revolution",
   "metadata": {},
   "outputs": [
    {
     "name": "stdout",
     "output_type": "stream",
     "text": [
      "\r",
      "♫♫♫ > DUET LIVE STATUS  -  Objects: 0  Requests: 0   Messages: 0  Request Handlers: 0                                \r"
     ]
    },
    {
     "name": "stderr",
     "output_type": "stream",
     "text": [
      "[2022-02-19T23:34:54.440676-0800][CRITICAL][logger]][30526] > HANDLER Request <UID: a0df1124b01340239092e63fead8a181>: To evaluate training progress\n",
      "Value: <Storable: 12.482412338256836>\n",
      "[2022-02-19T23:34:55.722589-0800][CRITICAL][logger]][30526] > HANDLER Request <UID: 3c84d04affb34902a3d668a213275e1a>: To evaluate training progress\n",
      "Value: <Storable: 24.38145637512207>\n",
      "[2022-02-19T23:34:56.868535-0800][CRITICAL][logger]][30526] > HANDLER Request <UID: dd0d467876c44a42bcca4e2b37cf0295>: To evaluate training progress\n",
      "Value: <Storable: 10.267278671264648>\n",
      "[2022-02-19T23:34:57.205121-0800][CRITICAL][logger]][30526] > HANDLER Request <UID: 95fb5833b89a4e3db3c57caa2bead887>: To evaluate training progress\n",
      "Value: <Storable: 3.181546926498413>\n",
      "[2022-02-19T23:34:58.312398-0800][CRITICAL][logger]][30526] > HANDLER Request <UID: a375a2e00a714cd582469cfeb7950775>: To evaluate training progress\n",
      "Value: <Storable: 12.056376457214355>\n",
      "[2022-02-19T23:34:59.496818-0800][CRITICAL][logger]][30526] > HANDLER Request <UID: 32221ee8dd2f4b17881d00ea0bba3ef3>: To evaluate training progress\n",
      "Value: <Storable: 11.429590225219727>\n",
      "[2022-02-19T23:35:00.728100-0800][CRITICAL][logger]][30526] > HANDLER Request <UID: 74b312d30cfb4301917d62bb15a6ed1a>: To evaluate training progress\n",
      "Value: <Storable: 4.291439056396484>\n",
      "[2022-02-19T23:35:01.908635-0800][CRITICAL][logger]][30526] > HANDLER Request <UID: 11c735e16e2c426eb904925ff0fcce9e>: To evaluate training progress\n",
      "Value: <Storable: 3.254056930541992>\n",
      "[2022-02-19T23:35:03.061958-0800][CRITICAL][logger]][30526] > HANDLER Request <UID: 6774dca4784e48778a71096ee4e869db>: To evaluate training progress\n",
      "Value: <Storable: 7.65777063369751>\n",
      "[2022-02-19T23:35:03.390013-0800][CRITICAL][logger]][30526] > HANDLER Request <UID: 35106f9edab44bdc95e95cf4f95b2465>: To evaluate training progress\n",
      "Value: <Storable: 8.434379577636719>\n",
      "[2022-02-19T23:39:35.748756-0800][CRITICAL][logger]][30526] > HANDLER Request <UID: 4e497e9a3b2643b0a8f85782254f72ad>:\n",
      "Value: <Storable: [Parameter containing:tensor([[0.6441]], requires_grad=True), Parameter containing:tensor([-0.2993], requires_grad=True)]>\n",
      "[2022-02-19T23:44:30.087371-0800][CRITICAL][logger]][30526] > HANDLER Request <UID: 42f46deb6dfe4ac6bcba982c136d9eb5>:\n",
      "Value: <Storable: 'in_features=1, out_features=1, bias=True'>\n",
      "[2022-02-19T23:44:30.313165-0800][CRITICAL][logger]][30526] > HANDLER Request <UID: 8ab44286bfc24e809a7f8ea2a2d4e032>:\n",
      "Value: <Storable: OrderedDict([('weight', tensor([[0.6441]])), ('bias', tensor([-0.2993]))])>\n"
     ]
    }
   ],
   "source": [
    "duet.requests.add_handler(\n",
    "    action=\"accept\",\n",
    "    print_local=True,  # print the result in your notebook\n",
    ")"
   ]
  },
  {
   "cell_type": "code",
   "execution_count": null,
   "id": "every-banana",
   "metadata": {},
   "outputs": [],
   "source": []
  }
 ],
 "metadata": {
  "kernelspec": {
   "display_name": "Python 3 (ipykernel)",
   "language": "python",
   "name": "python3"
  },
  "language_info": {
   "codemirror_mode": {
    "name": "ipython",
    "version": 3
   },
   "file_extension": ".py",
   "mimetype": "text/x-python",
   "name": "python",
   "nbconvert_exporter": "python",
   "pygments_lexer": "ipython3",
   "version": "3.9.7"
  }
 },
 "nbformat": 4,
 "nbformat_minor": 5
}
